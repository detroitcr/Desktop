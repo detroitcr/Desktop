{
 "cells": [
  {
   "cell_type": "code",
   "execution_count": 1,
   "metadata": {},
   "outputs": [
    {
     "name": "stdout",
     "output_type": "stream",
     "text": [
      "Requirement already satisfied: flask in c:\\users\\vikas cr\\appdata\\local\\programs\\python\\python36\\lib\\site-packages (1.0.2)\n",
      "Requirement already satisfied: click>=5.1 in c:\\users\\vikas cr\\appdata\\local\\programs\\python\\python36\\lib\\site-packages (from flask) (7.0)\n",
      "Requirement already satisfied: Werkzeug>=0.14 in c:\\users\\vikas cr\\appdata\\local\\programs\\python\\python36\\lib\\site-packages (from flask) (0.15.2)\n",
      "Requirement already satisfied: Jinja2>=2.10 in c:\\users\\vikas cr\\appdata\\local\\programs\\python\\python36\\lib\\site-packages (from flask) (2.10)\n",
      "Requirement already satisfied: itsdangerous>=0.24 in c:\\users\\vikas cr\\appdata\\local\\programs\\python\\python36\\lib\\site-packages (from flask) (1.1.0)\n",
      "Requirement already satisfied: MarkupSafe>=0.23 in c:\\users\\vikas cr\\appdata\\local\\programs\\python\\python36\\lib\\site-packages (from Jinja2>=2.10->flask) (1.1.1)\n"
     ]
    }
   ],
   "source": [
    "! pip install flask"
   ]
  },
  {
   "cell_type": "code",
   "execution_count": 2,
   "metadata": {},
   "outputs": [
    {
     "name": "stdout",
     "output_type": "stream",
     "text": [
      "Requirement already satisfied: virtualenv in c:\\users\\vikas cr\\appdata\\local\\programs\\python\\python36\\lib\\site-packages (16.4.3)\n"
     ]
    }
   ],
   "source": [
    "! pip install virtualenv"
   ]
  },
  {
   "cell_type": "code",
   "execution_count": 5,
   "metadata": {},
   "outputs": [
    {
     "name": "stdout",
     "output_type": "stream",
     "text": [
      "Collecting JSON\n"
     ]
    },
    {
     "name": "stderr",
     "output_type": "stream",
     "text": [
      "  Could not find a version that satisfies the requirement JSON (from versions: )\n",
      "No matching distribution found for JSON\n"
     ]
    }
   ],
   "source": [
    "! pip install JSON"
   ]
  },
  {
   "cell_type": "code",
   "execution_count": null,
   "metadata": {},
   "outputs": [],
   "source": []
  }
 ],
 "metadata": {
  "kernelspec": {
   "display_name": "Python 3",
   "language": "python",
   "name": "python3"
  },
  "language_info": {
   "codemirror_mode": {
    "name": "ipython",
    "version": 3
   },
   "file_extension": ".py",
   "mimetype": "text/x-python",
   "name": "python",
   "nbconvert_exporter": "python",
   "pygments_lexer": "ipython3",
   "version": "3.6.6"
  }
 },
 "nbformat": 4,
 "nbformat_minor": 2
}
