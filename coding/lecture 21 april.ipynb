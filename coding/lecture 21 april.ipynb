{
 "cells": [
  {
   "cell_type": "code",
   "execution_count": 1,
   "metadata": {},
   "outputs": [
    {
     "name": "stdout",
     "output_type": "stream",
     "text": [
      "120\n"
     ]
    }
   ],
   "source": [
    "\n",
    "\n",
    "\n",
    "\n",
    "\n",
    "\n",
    "def fact(n):\n",
    "    if n==1:\n",
    "        return 1\n",
    "    return n*fact(n-1)\n",
    "\n",
    "\n",
    "\n",
    "\n",
    "\n",
    "print(fact(5))\n"
   ]
  },
  {
   "cell_type": "code",
   "execution_count": 1,
   "metadata": {},
   "outputs": [
    {
     "name": "stdout",
     "output_type": "stream",
     "text": [
      "89\n"
     ]
    }
   ],
   "source": [
    "# def fact(n):\n",
    "#     if n==1:\n",
    "#         return 1\n",
    "#     return n*fact(n-1)\n",
    "\n",
    "\n",
    "# fib\n",
    "def fib(i):\n",
    "    if i == 0:\n",
    "        return 1\n",
    "    if i==1:\n",
    "        return 0\n",
    "    return fib(i-1) + fib(i-2)\n",
    "\n",
    "\n",
    "print(fib(12))\n",
    "\n",
    "\n"
   ]
  },
  {
   "cell_type": "code",
   "execution_count": 2,
   "metadata": {},
   "outputs": [
    {
     "name": "stdout",
     "output_type": "stream",
     "text": [
      "16602747662452097049541800472897701834948051198384828062358553091918573717701170201065510185595898605104094736918879278462233015981029522997836311232618760539199036765399799926731433239718860373345088375054249\n"
     ]
    }
   ],
   "source": [
    "#memory = [None for i in range(3)]\n",
    "#MEMOISATION\n",
    "memory = [None] *1000\n",
    "def fib(i):\n",
    "    if memory[i] != None:\n",
    "        return memory[i]\n",
    "    if i == 0 or i==1:\n",
    "        \n",
    "    \n",
    "        return i\n",
    "    result=fib(i-1) + fib(i-2)\n",
    "    memory[i] = result\n",
    "    return result\n",
    "\n",
    "\n",
    "print(fib(998))\n"
   ]
  },
  {
   "cell_type": "code",
   "execution_count": 3,
   "metadata": {},
   "outputs": [
    {
     "name": "stdout",
     "output_type": "stream",
     "text": [
      "32\n"
     ]
    }
   ],
   "source": [
    "# loop is difficult and use for recursive\n",
    "def pow(a,b):\n",
    "    if b==1:\n",
    "        return a\n",
    "\n",
    "    return a*pow(a,b-1)\n",
    "\n",
    "print(pow(2,5))"
   ]
  },
  {
   "cell_type": "code",
   "execution_count": 4,
   "metadata": {},
   "outputs": [
    {
     "name": "stdout",
     "output_type": "stream",
     "text": [
      "1\n"
     ]
    }
   ],
   "source": [
    "def pow(a,b):\n",
    "    if b==0:\n",
    "        return 1\n",
    "\n",
    "    return a*pow(a,b-1)\n",
    "\n",
    "print(pow(2,0))"
   ]
  },
  {
   "cell_type": "code",
   "execution_count": 5,
   "metadata": {},
   "outputs": [
    {
     "name": "stdout",
     "output_type": "stream",
     "text": [
      "5\n",
      "4\n",
      "3\n",
      "2\n",
      "1\n"
     ]
    }
   ],
   "source": [
    "# ....\n",
    "# 5\n",
    "# 4\n",
    "# 3\n",
    "# 2\n",
    "# 1\n",
    "# ...\n",
    "def printDec(n):\n",
    "    if n == 0:\n",
    "        return\n",
    "    print(n)\n",
    "    printDec(n-1)\n",
    "printDec(5)\n",
    "\n",
    "\n",
    "\n",
    "\n",
    "\n",
    "\n"
   ]
  },
  {
   "cell_type": "code",
   "execution_count": 6,
   "metadata": {},
   "outputs": [
    {
     "name": "stdout",
     "output_type": "stream",
     "text": [
      "1\n",
      "2\n",
      "3\n",
      "4\n",
      "5\n"
     ]
    }
   ],
   "source": [
    "def printInc(n):\n",
    "    if n==0:\n",
    "        return \n",
    "    \n",
    "    printInc(n-1)\n",
    "    print(n)\n",
    "printInc(5)"
   ]
  },
  {
   "cell_type": "code",
   "execution_count": 7,
   "metadata": {},
   "outputs": [
    {
     "name": "stdout",
     "output_type": "stream",
     "text": [
      "3\n",
      "5\n"
     ]
    }
   ],
   "source": [
    "def hcf(a,b):\n",
    "    if a==0 or b==0:\n",
    "        return a+b\n",
    "    if a>b:\n",
    "        return hcf(a%b,b)\n",
    "    else:\n",
    "        return hcf(a,b%a)\n",
    "    \n",
    "    \n",
    "    \n",
    "print(hcf(12,15))\n",
    "print(hcf(100,15))"
   ]
  },
  {
   "cell_type": "code",
   "execution_count": 8,
   "metadata": {},
   "outputs": [
    {
     "name": "stdout",
     "output_type": "stream",
     "text": [
      "6\n"
     ]
    }
   ],
   "source": [
    "def numPaths(r,c):\n",
    "    if r==1 and c==1:\n",
    "        return 1\n",
    "    if r==0 or c==0:\n",
    "        return 0\n",
    "    if r==0 and c==1:\n",
    "        return 0\n",
    "    return numPaths(r-1,c)+numPaths(r,c-1)\n",
    "\n",
    "\n",
    "\n",
    "\n",
    "\n",
    "print(numPaths(3,3))"
   ]
  },
  {
   "cell_type": "code",
   "execution_count": 9,
   "metadata": {},
   "outputs": [
    {
     "name": "stdout",
     "output_type": "stream",
     "text": [
      "0.03125\n"
     ]
    }
   ],
   "source": [
    "\n",
    "\n",
    "def pow(a,b):\n",
    "    if b==0:\n",
    "        return 1\n",
    "    if b< 0:\n",
    "        return 1/ pow(a, -b)\n",
    "    partial =pow(a,b//2)\n",
    "    if b %2 ==0:\n",
    "        return partial*partial\n",
    "    else:\n",
    "        return a * partial *partial\n",
    "\n",
    "    \n",
    "\n",
    "print(pow(2,-5))\n"
   ]
  },
  {
   "cell_type": "code",
   "execution_count": null,
   "metadata": {},
   "outputs": [],
   "source": []
  },
  {
   "cell_type": "code",
   "execution_count": null,
   "metadata": {},
   "outputs": [],
   "source": []
  },
  {
   "cell_type": "code",
   "execution_count": null,
   "metadata": {},
   "outputs": [
    {
     "name": "stdout",
     "output_type": "stream",
     "text": [
      "Collecting tkinter\n"
     ]
    }
   ],
   "source": [
    "! pip install tkinter"
   ]
  },
  {
   "cell_type": "code",
   "execution_count": null,
   "metadata": {},
   "outputs": [],
   "source": []
  },
  {
   "cell_type": "code",
   "execution_count": null,
   "metadata": {},
   "outputs": [],
   "source": []
  },
  {
   "cell_type": "code",
   "execution_count": null,
   "metadata": {},
   "outputs": [],
   "source": []
  }
 ],
 "metadata": {
  "kernelspec": {
   "display_name": "Python 3",
   "language": "python",
   "name": "python3"
  },
  "language_info": {
   "codemirror_mode": {
    "name": "ipython",
    "version": 3
   },
   "file_extension": ".py",
   "mimetype": "text/x-python",
   "name": "python",
   "nbconvert_exporter": "python",
   "pygments_lexer": "ipython3",
   "version": "3.6.6"
  }
 },
 "nbformat": 4,
 "nbformat_minor": 2
}
