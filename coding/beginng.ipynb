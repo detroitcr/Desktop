{
 "cells": [
  {
   "cell_type": "code",
   "execution_count": 5,
   "metadata": {},
   "outputs": [
    {
     "name": "stdout",
     "output_type": "stream",
     "text": [
      "[1, 3, 4]\n"
     ]
    }
   ],
   "source": [
    "list = [1,2,3,4]\n",
    "list.remove(2)\n",
    "print(list)"
   ]
  },
  {
   "cell_type": "code",
   "execution_count": 9,
   "metadata": {},
   "outputs": [
    {
     "ename": "TypeError",
     "evalue": "'builtin_function_or_method' object does not support item assignment",
     "output_type": "error",
     "traceback": [
      "\u001b[1;31m---------------------------------------------------------------------------\u001b[0m",
      "\u001b[1;31mTypeError\u001b[0m                                 Traceback (most recent call last)",
      "\u001b[1;32m<ipython-input-9-8c2c35b562b7>\u001b[0m in \u001b[0;36m<module>\u001b[1;34m\u001b[0m\n\u001b[0;32m      1\u001b[0m \u001b[0mlist\u001b[0m \u001b[1;33m=\u001b[0m \u001b[1;33m[\u001b[0m\u001b[1;34m\"vikas\"\u001b[0m\u001b[1;33m,\u001b[0m\u001b[1;36m5\u001b[0m\u001b[1;33m,\u001b[0m\u001b[1;36m88\u001b[0m\u001b[1;33m,\u001b[0m\u001b[1;36m9\u001b[0m\u001b[1;33m]\u001b[0m\u001b[1;33m\u001b[0m\u001b[0m\n\u001b[1;32m----> 2\u001b[1;33m \u001b[0mlist\u001b[0m\u001b[1;33m.\u001b[0m\u001b[0minsert\u001b[0m\u001b[1;33m[\u001b[0m\u001b[1;36m4\u001b[0m\u001b[1;33m]\u001b[0m \u001b[1;33m=\u001b[0m \u001b[1;34m\"cr\"\u001b[0m\u001b[1;33m\u001b[0m\u001b[0m\n\u001b[0m\u001b[0;32m      3\u001b[0m \u001b[0mprint\u001b[0m\u001b[1;33m(\u001b[0m\u001b[0mlist\u001b[0m\u001b[1;33m)\u001b[0m\u001b[1;33m\u001b[0m\u001b[0m\n",
      "\u001b[1;31mTypeError\u001b[0m: 'builtin_function_or_method' object does not support item assignment"
     ]
    }
   ],
   "source": [
    "list = [\"vikas\",5,88,9]\n",
    "list.insert[4] = \"cr\"\n",
    "print(list)"
   ]
  },
  {
   "cell_type": "code",
   "execution_count": 10,
   "metadata": {},
   "outputs": [
    {
     "name": "stdout",
     "output_type": "stream",
     "text": [
      "['abcd', 5, 6, 9, 7, 100]\n"
     ]
    }
   ],
   "source": [
    "list = ['abcd',5,6,9,7]\n",
    "list.append(100)\n",
    "print(list)"
   ]
  },
  {
   "cell_type": "code",
   "execution_count": 14,
   "metadata": {},
   "outputs": [
    {
     "name": "stdout",
     "output_type": "stream",
     "text": [
      "['a', 'b', 'c', 'd', 'e']\n",
      "a\n",
      "b\n",
      "['b', 'c', 'd']\n",
      "['c', 'd', 'e']\n",
      "['a', 'b', 'c', 'd', 'e', 'a', 'b', 'c', 'd', 'e']\n",
      "['romeo', 'emperor', 'detroit', 'cr']\n",
      "['a', 'b', 'c', 'd', 'e', 'romeo', 'emperor', 'detroit', 'cr']\n"
     ]
    }
   ],
   "source": [
    "list = ['a','b','c','d','e']\n",
    "list_2 = ['romeo','emperor','detroit','cr']\n",
    "print(list)\n",
    "print(list[0])\n",
    "print(list[1])\n",
    "print(list[1:4])\n",
    "print(list[2:])\n",
    "print(list*2)\n",
    "print(list_2[0:])\n",
    "print(list+ list_2)"
   ]
  },
  {
   "cell_type": "code",
   "execution_count": 15,
   "metadata": {},
   "outputs": [
    {
     "name": "stdout",
     "output_type": "stream",
     "text": [
      "['vikas', 'kumar', 'vicky', 'vikram']\n",
      "['vikas', 'kumar', 'vikram']\n"
     ]
    }
   ],
   "source": [
    "list = ['vikas','kumar','vicky','vikram']\n",
    "print(list)\n",
    "del list[2]\n",
    "print(list)"
   ]
  },
  {
   "cell_type": "code",
   "execution_count": 1,
   "metadata": {},
   "outputs": [
    {
     "ename": "SyntaxError",
     "evalue": "invalid syntax (<ipython-input-1-f81490d37fc6>, line 1)",
     "output_type": "error",
     "traceback": [
      "\u001b[1;36m  File \u001b[1;32m\"<ipython-input-1-f81490d37fc6>\"\u001b[1;36m, line \u001b[1;32m1\u001b[0m\n\u001b[1;33m    list|\u001b[0m\n\u001b[1;37m         ^\u001b[0m\n\u001b[1;31mSyntaxError\u001b[0m\u001b[1;31m:\u001b[0m invalid syntax\n"
     ]
    }
   ],
   "source": [
    "list|"
   ]
  },
  {
   "cell_type": "code",
   "execution_count": 3,
   "metadata": {},
   "outputs": [
    {
     "name": "stdout",
     "output_type": "stream",
     "text": [
      "god\n",
      "cr is even\n",
      "god\n",
      "cr is even\n",
      "god\n",
      "cr is even\n",
      "god\n",
      "cr is even\n",
      "god\n",
      "cr is even\n",
      "god\n",
      "cr is even\n",
      "god\n",
      "cr is even\n",
      "god\n",
      "cr is even\n",
      "god\n",
      "cr is even\n",
      "god\n"
     ]
    }
   ],
   "source": [
    "for x in range(1,20):\n",
    "    if x % 2 == 0:\n",
    "        print(\"cr is even\")\n",
    "    else:\n",
    "        print(\"god\")"
   ]
  },
  {
   "cell_type": "code",
   "execution_count": 5,
   "metadata": {},
   "outputs": [
    {
     "name": "stdout",
     "output_type": "stream",
     "text": [
      "vsxnhc\n",
      "vsxnhc\n",
      "vsxnhc\n",
      "vsxnhc\n",
      "vsxnhc\n",
      "vsxnhc\n",
      "vsxnhc\n",
      "vsxnhc\n",
      "vsxnhc\n",
      "vsxnhc\n",
      "vsxnhc\n",
      "vsxnhc\n",
      "vsxnhc\n",
      "vsxnhc\n",
      "vsxnhc\n",
      "vsxnhc\n",
      "vsxnhc\n",
      "vsxnhc\n",
      "vsxnhc\n"
     ]
    }
   ],
   "source": [
    "for i in range(1,100):\n",
    "    if i % 5 ==0:\n",
    "        print(\"vsxnhc\")"
   ]
  },
  {
   "cell_type": "code",
   "execution_count": null,
   "metadata": {},
   "outputs": [],
   "source": []
  }
 ],
 "metadata": {
  "kernelspec": {
   "display_name": "Python 3",
   "language": "python",
   "name": "python3"
  },
  "language_info": {
   "codemirror_mode": {
    "name": "ipython",
    "version": 3
   },
   "file_extension": ".py",
   "mimetype": "text/x-python",
   "name": "python",
   "nbconvert_exporter": "python",
   "pygments_lexer": "ipython3",
   "version": "3.6.6"
  }
 },
 "nbformat": 4,
 "nbformat_minor": 2
}
