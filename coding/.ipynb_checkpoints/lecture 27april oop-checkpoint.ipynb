{
 "cells": [
  {
   "cell_type": "code",
   "execution_count": 26,
   "metadata": {},
   "outputs": [
    {
     "name": "stdout",
     "output_type": "stream",
     "text": [
      " 1 - vikas\n",
      " 2 - cr\n",
      "3\n",
      "30\n",
      "3\n"
     ]
    }
   ],
   "source": [
    "class Student:\n",
    "    counter = 1\n",
    "    def __init__(self, name):\n",
    "        self.name = name\n",
    "        self.rollNum = Student.counter\n",
    "        Student.counter += 1\n",
    "        \n",
    "    def __str__(self):\n",
    "        return f\" {self.rollNum} - {self.name}\"\n",
    "        \n",
    "    \n",
    "s1 = Student('vikas')\n",
    "\n",
    "print(s1)\n",
    "\n",
    "s2 =Student ('cr')\n",
    "print(s2)\n",
    "# s1.counter=30\n",
    "# print(Student.counter)\n",
    "# print(s1.counter)\n",
    "# print(s2.counter)\n",
    "\n",
    "\n"
   ]
  },
  {
   "cell_type": "code",
   "execution_count": 34,
   "metadata": {},
   "outputs": [
    {
     "name": "stdout",
     "output_type": "stream",
     "text": [
      "<__main__.Account object at 0x0000021DE1EEF3C8>\n",
      "<__main__.Account object at 0x0000021DE1EEF0F0>\n"
     ]
    }
   ],
   "source": [
    "class Account:\n",
    "    \n",
    "    counter = 1\n",
    "    \n",
    "    def __init__(self, bal):\n",
    "        self.bal=bal\n",
    "        self.id = Account.counter\n",
    "        Account.counter +=1\n",
    "    def deposit(self,amount):\n",
    "        \n",
    "        self.bal += amount\n",
    "        \n",
    "    def withdraw(self,amount):\n",
    "        self.bal -= amount\n",
    "        \n",
    "    def __str__self():\n",
    "        return f\"Acc {self.id} has {self.bal}\"\n",
    "        \n",
    "    \n",
    "a1 = Account(100)\n",
    "a1.deposit(100)\n",
    "a1.withdraw(50)\n",
    "print(a1)\n",
    "\n",
    "a2 = Account(0)\n",
    "print(a2)\n",
    "    \n",
    "\n",
    "\n",
    "\n",
    "\n",
    "\n",
    "\n",
    "\n"
   ]
  },
  {
   "cell_type": "code",
   "execution_count": null,
   "metadata": {},
   "outputs": [],
   "source": [
    "class SavingsAccount(Account):\n",
    "    pass\n",
    "\n",
    "\n",
    "\n",
    "\n",
    "\n",
    "\n",
    "\n",
    "\n",
    "class CurrentAccount:\n",
    "    pass\n",
    "\n",
    "\n",
    "\n",
    "\n",
    "sa1=SavingsAccount()"
   ]
  },
  {
   "cell_type": "code",
   "execution_count": null,
   "metadata": {},
   "outputs": [],
   "source": [
    "class Account:\n",
    "    counter = 1\n",
    "    def __init__(self,bal):\n",
    "        self.__bal=bal\n",
    "        self.id=Account.counter\n",
    "        Account.counter\n",
    "        "
   ]
  },
  {
   "cell_type": "code",
   "execution_count": null,
   "metadata": {},
   "outputs": [],
   "source": [
    "def getInterest(self):\n",
    "    return 0.06* self.getBal()"
   ]
  },
  {
   "cell_type": "code",
   "execution_count": null,
   "metadata": {},
   "outputs": [],
   "source": []
  }
 ],
 "metadata": {
  "kernelspec": {
   "display_name": "Python 3",
   "language": "python",
   "name": "python3"
  },
  "language_info": {
   "codemirror_mode": {
    "name": "ipython",
    "version": 3
   },
   "file_extension": ".py",
   "mimetype": "text/x-python",
   "name": "python",
   "nbconvert_exporter": "python",
   "pygments_lexer": "ipython3",
   "version": "3.6.6"
  }
 },
 "nbformat": 4,
 "nbformat_minor": 2
}
